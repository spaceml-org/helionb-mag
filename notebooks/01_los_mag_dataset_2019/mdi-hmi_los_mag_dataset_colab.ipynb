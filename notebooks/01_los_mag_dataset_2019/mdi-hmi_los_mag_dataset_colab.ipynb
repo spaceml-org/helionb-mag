{
 "cells": [
  {
   "cell_type": "markdown",
   "id": "f7644eea",
   "metadata": {
    "id": "f7644eea"
   },
   "source": [
    "# The SoHO/MDI, and SDO/HMI Line-of-sight Magnetogram Dataset\n",
    "\n",
    "In this notebook we demonstrate the process for interacting with a small sample of the co-temporal line-of-sight SoHO/MDI, and SDO/HMI dataset"
   ]
  },
  {
   "cell_type": "markdown",
   "id": "9903fb88",
   "metadata": {
    "id": "9903fb88"
   },
   "source": [
    "*Paul Wright*"
   ]
  },
  {
   "cell_type": "markdown",
   "id": "d1e1fdd3",
   "metadata": {
    "id": "d1e1fdd3"
   },
   "source": [
    "---"
   ]
  },
  {
   "cell_type": "markdown",
   "id": "c0529c8d",
   "metadata": {
    "id": "c0529c8d"
   },
   "source": [
    "## Introduction\n",
    "\n",
    "Over the last 50 years, space-, and ground-based instruments have imaged the magnetic field on the surface of the Sun. These images, known as magnetograms, have significantly advanced our understanding of solar magnetism, and its role in space-weather. Unfortunately, most instruments are operational for a time-frame of roughly one solar cycle (11-years), preventing long-term studies.\n",
    "\n",
    "Over this time, there are two notable space-based instruments that have been paramount in improving our understanding of these processes:"
   ]
  },
  {
   "cell_type": "markdown",
   "id": "e01fc4fd",
   "metadata": {
    "id": "e01fc4fd"
   },
   "source": [
    "### SDO/HMI & SoHO/MDI Overview\n",
    "\n",
    "Since its launch in 2010, NASA’s Solar Dynamics Observatory (SDO; ([Pesnell et al. 2012](https://ui.adsabs.harvard.edu/abs/2012SoPh..275....3P/abstract)) has continuously monitored Sun's activity, delivering a wealth of valuable scientific data for heliophysics researchers with the use of three instruments, including a dedicated Magnetic imager:\n",
    "\n",
    "The Helioseismic and Magnetic Imager (HMI; [Schou et al. 2012](https://ui.adsabs.harvard.edu/abs/2012SoPh..275..229S/abstract)) captures visible wavelength filtergrams of the full Sun at 4096 x 4096, with a resolution of 1 arcsecond (0.5 arcsecond/pixel); taking one magnetogram every 45 seconds. These data are processed into a number of data products, including photospheric Dopplergrams, line-of-sight magnetograms, and vector magnetograms ([Hoeksema et al. 2014](https://ui.adsabs.harvard.edu/abs/2014SoPh..289.3483H/abstract)).\n",
    "\n",
    "Prior to 2010, the Michelson Doppler Imager (MDI; scherrer et al 1995) on board the Solar and Heliospheric Observatory (SOHO) was the communities flagship space-based magnetic field imager. MDI is HMI’s predecessor with a resolution of 4 arcseconds (2 arcseconds/pixel).\n",
    "\n",
    "MDI and HMI have an overlapping set of 4,850 magnetograms. MDI is an instrument that is no longer operational, but who was designed as a scientific instrument. A successful calibration enables the joint use of both instruments from 1996 until the present (>24 years)."
   ]
  },
  {
   "cell_type": "markdown",
   "id": "4b83c946",
   "metadata": {
    "id": "4b83c946"
   },
   "source": [
    "## The co-temporal magnetogram dataset"
   ]
  },
  {
   "cell_type": "markdown",
   "id": "477f229d",
   "metadata": {
    "id": "477f229d"
   },
   "source": [
    "This contains pre-processed magnetograms covering 1995 - 2021, with co-temporal, co-aligned data during the one-year of overlap (2010 - 2011).\n",
    "\n",
    "These data have been: \n",
    "\n",
    "* Cleaned based on `QUALITY` flags;\n",
    "* Rotated to Solar North;\n",
    "* Normalised the Solar radius to account for different instruments residing in different obits;\n",
    "* De-rotated each instrument to a common observer location;\n",
    "* Temporally aligned;\n",
    "* and finally, registered on a per-patch basis to account for a distortion map that exists between both instruments.\n",
    "\n",
    "*The complete (~5 TB) dataset currently in preparation for publication, and will be accessible from the Google Cloud Platform*"
   ]
  },
  {
   "cell_type": "markdown",
   "id": "5a08a294",
   "metadata": {
    "id": "5a08a294"
   },
   "source": [
    "### Who is the dataset for?\n",
    "\n",
    "The sheer volume of structured scientific data obtained by SDO and SoHO, is ideal for a range machine learning tasks from time-series analysis, to computer vision (such as super-resolution tasks). Magnetic field images are unique in that the distribution of values are non-Gaussian, centered around zero, and importantly, *unbounded* at high-, and low- magnetic field values.\n",
    "\n",
    "While the HMI and MDI data are easily accessible, pre-processing these data for scientific analysis requires specialised heliophysics (and instrument-specific) knowledge as each instrument observes the Sun from a different location in space. This may act as an unnecessary hurdle for non-heliophysics machine learning researchers who may wish to experiment with datasets from the physical sciences, but are unaware of domain-specific nuances (e.g., that images must be spatially and temporally adjusted).\n",
    "\n",
    "**Our aim is to supply this standardised co-temporal, co-aligned data-set for heliophysicists who wish to use machine learning in their own research, as well as machine-learning researchers who wish to develop models specialized for the physical sciences.**"
   ]
  },
  {
   "cell_type": "markdown",
   "id": "0a927661",
   "metadata": {
    "id": "0a927661"
   },
   "source": [
    "---"
   ]
  },
  {
   "cell_type": "markdown",
   "id": "85398211",
   "metadata": {
    "id": "85398211"
   },
   "source": [
    "## Table of Contents"
   ]
  },
  {
   "cell_type": "markdown",
   "id": "745d014e",
   "metadata": {
    "id": "745d014e"
   },
   "source": [
    "The notebook is set out as follows:\n",
    "\n",
    "1. Setting up the notebook <br>\n",
    "2. Loading SDO/HMI & SoHO/MDI from JSOC <br>\n",
    "    2a. Generating a SunPy map <br>\n",
    "3. Reading and Loading the ML dataset <br>\n",
    "4. Visualise the ML dataset"
   ]
  },
  {
   "cell_type": "markdown",
   "id": "13894269",
   "metadata": {
    "id": "13894269"
   },
   "source": [
    "## 1. Setting up the notebook"
   ]
  },
  {
   "cell_type": "code",
   "execution_count": null,
   "id": "81b9e06c",
   "metadata": {
    "colab": {
     "base_uri": "https://localhost:8080/"
    },
    "id": "81b9e06c",
    "outputId": "e81ecda8-39a9-4fb5-aaa5-5bba465c80e9"
   },
   "outputs": [],
   "source": [
    "# sunpy isn't included on colab\n",
    "!pip install sunpy[all]"
   ]
  },
  {
   "cell_type": "code",
   "execution_count": null,
   "id": "7dc88e03",
   "metadata": {
    "id": "7dc88e03"
   },
   "outputs": [],
   "source": [
    "import os\n",
    "import time\n",
    "\n",
    "import numpy as np\n",
    "import matplotlib.pyplot as plt\n",
    "\n",
    "from os import listdir\n",
    "from os.path import isfile, join\n",
    "\n",
    "import sunpy\n",
    "import sunpy.map\n",
    "from sunpy.net import Fido, attrs as a\n",
    "\n",
    "import matplotlib.colors as colors\n",
    "import astropy.io.fits as fits\n",
    "import astropy.units as u\n",
    "from astropy.coordinates import SkyCoord\n",
    "\n",
    "import skimage.transform"
   ]
  },
  {
   "cell_type": "code",
   "execution_count": null,
   "id": "e7b3fff3",
   "metadata": {
    "id": "e7b3fff3"
   },
   "outputs": [],
   "source": [
    "# defining the colour table\n",
    "hmimag = plt.get_cmap(\"hmimag\")"
   ]
  },
  {
   "cell_type": "markdown",
   "id": "f7e8b6db",
   "metadata": {
    "id": "f7e8b6db"
   },
   "source": [
    "## 2. Loading SDO/HMI & SoHO/MDI from JSOC\n"
   ]
  },
  {
   "cell_type": "code",
   "execution_count": null,
   "id": "46be26c7",
   "metadata": {
    "id": "46be26c7"
   },
   "outputs": [],
   "source": [
    "# Query the data (using a registered e-mail address)\n",
    "jsoc_email = \"paul@wrightai.com\""
   ]
  },
  {
   "cell_type": "code",
   "execution_count": null,
   "id": "9c5060a6",
   "metadata": {
    "colab": {
     "base_uri": "https://localhost:8080/",
     "height": 220,
     "referenced_widgets": [
      "9f0795f8117d4f3a83680ed074f59ead",
      "c8269a4a881a4051b24c8982eb782865",
      "900138be07554e2189cfc7b18a0ba188",
      "062f4c03104f43ddb7c9399946a8efab",
      "400f6922ddbd4dfe8e42e94fb436ab4a",
      "72692e8b6c2c4bfa9ec7e2a438772804",
      "fc6d4f41bfa54166a31be3d164b0d661",
      "260eb3140da142f089dc9b6aa8ce259d",
      "672161f08612466290132460feef2bce",
      "9499c5a001c1477d9ad1aa924c4b73f6",
      "83978420ee984b84899246769667cfaf",
      "43caab2979774ba58804923a7bf98892",
      "f9a4c5a6b1d74705af10085268469542",
      "accfd8894cc2461bb3a817312661f2f9",
      "5b7282554d5d4d9f9ecec0e80b2018e1",
      "26d82899ab8f42178cf5205cdb908eb8"
     ]
    },
    "id": "9c5060a6",
    "outputId": "70293d5d-c2f5-46af-c0a9-fd492fa7934c"
   },
   "outputs": [],
   "source": [
    "mdi_data = Fido.search(\n",
    "    a.Time(\"2011/03/31 01:36:00\", \"2011/03/31 01:37:00\"),\n",
    "    a.jsoc.Series.mdi_fd_m_96m_lev182,\n",
    "    a.jsoc.Notify(jsoc_email),\n",
    ")\n",
    "dwnld_mdi = Fido.fetch(mdi_data[0])\n",
    "\n",
    "hmi_data = Fido.search(\n",
    "    a.Time(\"2011/03/31 01:34:00\", \"2011/03/31 01:35:00\"),\n",
    "    a.jsoc.Series.hmi_m_720s,\n",
    "    a.jsoc.Notify(jsoc_email),\n",
    ")\n",
    "dwnld_hmi = Fido.fetch(hmi_data[0])"
   ]
  },
  {
   "cell_type": "markdown",
   "id": "823c4d5f",
   "metadata": {
    "id": "823c4d5f"
   },
   "source": [
    "due to the nature each telescope being in a different orbit, SDO/HMI and SoHO/MDI observations are not co-aligned by default. This can be easily demonstrated as follows:"
   ]
  },
  {
   "cell_type": "markdown",
   "id": "97cb3775",
   "metadata": {
    "id": "97cb3775"
   },
   "source": [
    "### 2a. Generating a SunPy map"
   ]
  },
  {
   "cell_type": "markdown",
   "id": "3128cb47",
   "metadata": {
    "id": "3128cb47"
   },
   "source": [
    "First, we create SunPy maps, and correct the rotation"
   ]
  },
  {
   "cell_type": "code",
   "execution_count": null,
   "id": "f9f9ada8",
   "metadata": {
    "id": "f9f9ada8"
   },
   "outputs": [],
   "source": [
    "mdi_map = sunpy.map.Map(dwnld_mdi[0])\n",
    "mdi_rotated = mdi_map.rotate(order=3)\n",
    "\n",
    "hmi_map = sunpy.map.Map(dwnld_hmi[0])\n",
    "hmi_rotated = hmi_map.rotate(order=3)"
   ]
  },
  {
   "cell_type": "markdown",
   "id": "34cc8102",
   "metadata": {
    "id": "34cc8102"
   },
   "source": [
    "... and inspect the SunPy Map object as follows."
   ]
  },
  {
   "cell_type": "code",
   "execution_count": null,
   "id": "cb9d0d82",
   "metadata": {
    "colab": {
     "base_uri": "https://localhost:8080/",
     "height": 480
    },
    "id": "cb9d0d82",
    "outputId": "29d558e5-f0be-4ee7-fc78-0da1fe99a298"
   },
   "outputs": [],
   "source": [
    "hmi_rotated"
   ]
  },
  {
   "cell_type": "markdown",
   "id": "c6bd7ffa",
   "metadata": {
    "id": "c6bd7ffa"
   },
   "source": [
    "---"
   ]
  },
  {
   "cell_type": "markdown",
   "id": "5db41ed5",
   "metadata": {
    "id": "5db41ed5"
   },
   "source": [
    "#### Plotting HMI and MDI"
   ]
  },
  {
   "cell_type": "code",
   "execution_count": null,
   "id": "5f5e0438",
   "metadata": {
    "colab": {
     "base_uri": "https://localhost:8080/",
     "height": 421
    },
    "id": "5f5e0438",
    "outputId": "9dbd6ba4-d04c-466c-8c15-148d70279dbc"
   },
   "outputs": [],
   "source": [
    "fig = plt.figure(figsize=(16, 6))\n",
    "\n",
    "ax = fig.add_subplot(121, projection=hmi_rotated)\n",
    "hmi_rotated.plot(norm=colors.Normalize(vmin=-1400, vmax=1400), cmap=hmimag)\n",
    "hmi_rotated.draw_limb(color=\"black\")\n",
    "plt.colorbar()\n",
    "\n",
    "ax = fig.add_subplot(122, projection=mdi_rotated)\n",
    "mdi_rotated.plot(norm=colors.Normalize(vmin=-1400, vmax=1400), cmap=hmimag)\n",
    "mdi_rotated.draw_limb(color=\"black\")\n",
    "plt.colorbar()"
   ]
  },
  {
   "cell_type": "markdown",
   "id": "3d3c9c3d",
   "metadata": {
    "id": "3d3c9c3d"
   },
   "source": [
    "**Figure 1:** Full-disk SDO/HMI and SoHO/MDI magnetograms on 31st March 2011, after rotation to solar North. These images are prior to any further alignment. We can see that the HMI and MDI magnetograms are of the same physical structures. HMI is 4096x4096, while MDI is 1024x1024 pixels, and has a higher noise-floor."
   ]
  },
  {
   "cell_type": "markdown",
   "id": "f227f845",
   "metadata": {
    "id": "f227f845"
   },
   "source": [
    "To demonstrate the alignment of the SunPy maps, as obtained from the Spacecraft (after rotation of the Solar North to image North), we will extract a small patch of 60x60 arcseconds from each image, based on the co-ordinate system of each Map"
   ]
  },
  {
   "cell_type": "code",
   "execution_count": null,
   "id": "7dd8cea7",
   "metadata": {
    "id": "7dd8cea7"
   },
   "outputs": [],
   "source": [
    "width = 60 * u.arcsec\n",
    "height = 60 * u.arcsec\n",
    "bottom_left_x = 453 * u.arcsec\n",
    "bottom_left_y = -225 * u.arcsec"
   ]
  },
  {
   "cell_type": "code",
   "execution_count": null,
   "id": "f5fa40c6",
   "metadata": {
    "id": "f5fa40c6"
   },
   "outputs": [],
   "source": [
    "hmisub = hmi_rotated.submap(\n",
    "    SkyCoord(\n",
    "        bottom_left_x,\n",
    "        bottom_left_y,\n",
    "        frame=hmi_rotated.coordinate_frame,  # create the subplot in the appropriate frame\n",
    "    ),\n",
    "    width=width,\n",
    "    height=height,\n",
    ")\n",
    "\n",
    "mdisub = mdi_rotated.submap(\n",
    "    SkyCoord(\n",
    "        bottom_left_x,\n",
    "        bottom_left_y,\n",
    "        frame=mdi_rotated.coordinate_frame,  # create the subplot in the appropriate frame\n",
    "    ),\n",
    "    width=width,\n",
    "    height=height,\n",
    ")"
   ]
  },
  {
   "cell_type": "code",
   "execution_count": null,
   "id": "9514849f",
   "metadata": {
    "colab": {
     "base_uri": "https://localhost:8080/",
     "height": 296
    },
    "id": "9514849f",
    "outputId": "91e4bc13-f67c-42ea-f925-20724ac32d12"
   },
   "outputs": [],
   "source": [
    "# visualise these SunPy maps for this smaller region\n",
    "\n",
    "fig = plt.figure(figsize=(17, 4))\n",
    "ax = fig.add_subplot(131, projection=hmisub)\n",
    "hmisub.plot(norm=colors.Normalize(vmin=-1400, vmax=1400), cmap=hmimag)\n",
    "\n",
    "ax = fig.add_subplot(132, projection=mdisub)\n",
    "mdisub.plot(norm=colors.Normalize(vmin=-1400, vmax=1400), cmap=hmimag)\n",
    "plt.title(\"MDI magnetogram 2011-03-31 01:36:26\")\n",
    "plt.colorbar().set_label(\"Gauss\")"
   ]
  },
  {
   "cell_type": "markdown",
   "id": "c4d42061",
   "metadata": {
    "id": "c4d42061"
   },
   "source": [
    "**Figure 2:** Example pair of SunPy submaps from SDO/HMI (left), and SoHO/MDI (right) magnetograms. These magnetograms are shown over the same scale, over the same region in arcseconds."
   ]
  },
  {
   "cell_type": "markdown",
   "id": "32ab438c",
   "metadata": {
    "id": "32ab438c"
   },
   "source": [
    "To properly compare the alignment, we will bicubically upsample the MDI magnetogram to the HMI resolution, and overplot contours:"
   ]
  },
  {
   "cell_type": "code",
   "execution_count": null,
   "id": "aeefbc54",
   "metadata": {
    "id": "aeefbc54"
   },
   "outputs": [],
   "source": [
    "bicubic_sub = skimage.transform.resize(mdisub.data, hmisub.data.shape)"
   ]
  },
  {
   "cell_type": "code",
   "execution_count": null,
   "id": "c8a90404",
   "metadata": {
    "id": "c8a90404"
   },
   "outputs": [],
   "source": [
    "def plot_images(one, two, three, levels):\n",
    "    fig = plt.figure(figsize=(17, 4))\n",
    "    ax = fig.add_subplot(131)\n",
    "\n",
    "    plt.imshow(one, norm=colors.Normalize(vmin=-1400, vmax=1400), cmap=hmimag)\n",
    "    # plt.colorbar().set_label(\"Gauss\")\n",
    "\n",
    "    ax = fig.add_subplot(132)\n",
    "    plt.imshow(two, norm=colors.Normalize(vmin=-1400, vmax=1400), cmap=hmimag)\n",
    "    # plt.colorbar().set_label(\"Gauss\")\n",
    "\n",
    "    ax = fig.add_subplot(133)\n",
    "    plt.imshow(three, norm=colors.Normalize(vmin=-1400, vmax=1400), cmap=hmimag)\n",
    "    plt.colorbar().set_label(\"Gauss\")\n",
    "    # plt.contour(data[0], colors='black', levels=[-240,240]);\n",
    "    CS = ax.contour(one, colors=\"black\", levels=levels)\n",
    "    ax.clabel(CS, inline=True, fontsize=8)"
   ]
  },
  {
   "cell_type": "code",
   "execution_count": null,
   "id": "573d8a4c",
   "metadata": {
    "colab": {
     "base_uri": "https://localhost:8080/",
     "height": 268
    },
    "id": "573d8a4c",
    "outputId": "6e9c625f-492c-4af2-e9a3-c62bdb8a0a21"
   },
   "outputs": [],
   "source": [
    "# plotting only the data\n",
    "plot_images(hmisub.data, mdisub.data, bicubic_sub, [-300, 300])"
   ]
  },
  {
   "cell_type": "markdown",
   "id": "8361b3f8",
   "metadata": {
    "id": "8361b3f8"
   },
   "source": [
    "**Figure 2:** *Left and center*: Example pair of patches from SDO/HMI, and SoHO/MDI magnetograms. *Right*: Bi-cubic upsampled SoHO/MDI magnetogram with corresponding SDO/HMI countours (+/- 300 Gauss) overplot highlight the misalignment. Further alignment is necessary "
   ]
  },
  {
   "cell_type": "markdown",
   "id": "6c5e3bd0",
   "metadata": {
    "id": "6c5e3bd0"
   },
   "source": [
    "From these images it is clear that further alignment is required, and understanding of instrument specifics is required. In the next section we will load in the ML dataset of co-aligned patches."
   ]
  },
  {
   "cell_type": "markdown",
   "id": "7b52e344",
   "metadata": {
    "id": "7b52e344"
   },
   "source": [
    "---"
   ]
  },
  {
   "cell_type": "markdown",
   "id": "b2a30553",
   "metadata": {
    "id": "b2a30553"
   },
   "source": [
    "## 3. Reading and Loading the ML dataset"
   ]
  },
  {
   "cell_type": "code",
   "execution_count": null,
   "id": "Q60We1F0hhzq",
   "metadata": {
    "id": "Q60We1F0hhzq"
   },
   "outputs": [],
   "source": [
    "from google.cloud import storage\n",
    "from google.colab import auth\n",
    "\n",
    "auth.authenticate_user()"
   ]
  },
  {
   "cell_type": "code",
   "execution_count": null,
   "id": "FH9Wl_I2hjcu",
   "metadata": {
    "id": "FH9Wl_I2hjcu"
   },
   "outputs": [],
   "source": [
    "bucket_name = \"solarmag-public\"\n",
    "\n",
    "storage_client = storage.Client.create_anonymous_client()\n",
    "bucket = storage_client.bucket(bucket_name)"
   ]
  },
  {
   "cell_type": "code",
   "execution_count": null,
   "id": "fhi1-6Bphnie",
   "metadata": {
    "id": "fhi1-6Bphnie"
   },
   "outputs": [],
   "source": [
    "def list_files(bucket_name):\n",
    "    \"\"\"List all files in GCP bucket.\"\"\"\n",
    "    files = bucket.list_blobs()\n",
    "    fileList = [file.name for file in files if \".\" in file.name]\n",
    "    return fileList\n",
    "\n",
    "\n",
    "def get_files(files, dir, ind):\n",
    "    files = [s for s in files if str(ind) in s]\n",
    "\n",
    "    for file in files:\n",
    "        blob = bucket.blob(file)\n",
    "        blob.download_to_filename(os.path.join(dir, file.split(\"/\")[-1]))\n",
    "        print(f\"downloaded {file} to {dir}\")"
   ]
  },
  {
   "cell_type": "code",
   "execution_count": null,
   "id": "pHD95KB_gFcO",
   "metadata": {
    "colab": {
     "base_uri": "https://localhost:8080/"
    },
    "id": "pHD95KB_gFcO",
    "outputId": "2431141e-931a-4b77-f033-890e4a8cb3c4"
   },
   "outputs": [],
   "source": [
    "local_dir = \"solarmag_data\"\n",
    "files = list_files(bucket_name)\n",
    "patch = 390\n",
    "\n",
    "if not os.path.exists(local_dir):\n",
    "    os.mkdir(local_dir)\n",
    "\n",
    "get_files(files, local_dir, patch)"
   ]
  },
  {
   "cell_type": "markdown",
   "id": "a853740f",
   "metadata": {
    "id": "a853740f"
   },
   "source": [
    "## 4. Visualise the ML dataset"
   ]
  },
  {
   "cell_type": "code",
   "execution_count": null,
   "id": "eb3a4c9c",
   "metadata": {
    "id": "eb3a4c9c"
   },
   "outputs": [],
   "source": [
    "def plot_images_radius(one, two, three, levels):\n",
    "    fig = plt.figure(figsize=(17, 4))\n",
    "    ax = fig.add_subplot(131)\n",
    "\n",
    "    plt.imshow(one, norm=colors.Normalize(vmin=-1400, vmax=1400), cmap=hmimag)\n",
    "    plt.colorbar().set_label(\"Gauss\")\n",
    "\n",
    "    ax = fig.add_subplot(132)\n",
    "    plt.imshow(two, norm=colors.Normalize(vmin=-1400, vmax=1400), cmap=hmimag)\n",
    "    plt.colorbar().set_label(\"Gauss\")\n",
    "\n",
    "    ax = fig.add_subplot(133)\n",
    "    plt.imshow(three)\n",
    "    CS = ax.contour(three, colors=\"black\", levels=levels)\n",
    "    ax.clabel(CS, inline=True, fontsize=8)\n",
    "    plt.colorbar().set_label(\"Radius [Solar Radii]\")"
   ]
  },
  {
   "cell_type": "code",
   "execution_count": null,
   "id": "df004317",
   "metadata": {
    "colab": {
     "base_uri": "https://localhost:8080/"
    },
    "id": "df004317",
    "outputId": "0aa6f638-ba72-4c58-d906-238543d877d5"
   },
   "outputs": [],
   "source": [
    "get_files(files, local_dir, 641)\n",
    "hmi = np.load(join(local_dir, \"HMI_20110331-013417_641.npy\"))\n",
    "mdi = np.load(join(local_dir, \"MDI-NEW_20110331-013626_641.npy\"))\n",
    "\n",
    "# where the naming convention is <instrument>_<date>-<time>_<patch_number>.npy"
   ]
  },
  {
   "cell_type": "code",
   "execution_count": null,
   "id": "bcbb809b",
   "metadata": {
    "colab": {
     "base_uri": "https://localhost:8080/",
     "height": 268
    },
    "id": "bcbb809b",
    "outputId": "48dac34a-73f5-4dc0-bd06-a94398cd52d9"
   },
   "outputs": [],
   "source": [
    "plot_images_radius(hmi[0], mdi[0], mdi[1], [1.00])"
   ]
  },
  {
   "cell_type": "markdown",
   "id": "972bbd5c",
   "metadata": {
    "id": "972bbd5c"
   },
   "source": [
    "**Figure 3:** Example pair of co-aligned, co-temporal SDO/HMI, and SoHO/MDI magnetograms (left, center), alongside the corresponding SoHO/MDI location channel, with the solar radius highlighted. As the Sun is split into 128x128 arcsecond patches, each patch contains a corresponding location channel in solar radius."
   ]
  },
  {
   "cell_type": "code",
   "execution_count": null,
   "id": "ea24a478",
   "metadata": {
    "colab": {
     "base_uri": "https://localhost:8080/"
    },
    "id": "ea24a478",
    "outputId": "04e5b9d7-3b07-4d70-a054-d657fe26e1fa"
   },
   "outputs": [],
   "source": [
    "get_files(files, local_dir, 407)\n",
    "hmi = np.load(join(local_dir, \"HMI_20110331-013417_407.npy\"))\n",
    "mdi = np.load(join(local_dir, \"MDI-NEW_20110331-013626_407.npy\"))\n",
    "\n",
    "bicubic = skimage.transform.resize(mdi[0], hmi[0].shape)"
   ]
  },
  {
   "cell_type": "code",
   "execution_count": null,
   "id": "28185720",
   "metadata": {
    "colab": {
     "base_uri": "https://localhost:8080/",
     "height": 268
    },
    "id": "28185720",
    "outputId": "a62b3deb-0fbd-4090-f9cb-70dd07035c73"
   },
   "outputs": [],
   "source": [
    "plot_images(hmi[0], mdi[0], bicubic, [-300, 300])"
   ]
  },
  {
   "cell_type": "markdown",
   "id": "d27d5e93",
   "metadata": {
    "id": "d27d5e93"
   },
   "source": [
    "**Figure 4:** *Left and center*: Example pair of co-aligned, co-temporal SDO/HMI, and SoHO/MDI magnetograms. *Right*: Bi-cubic upsampled SoHO/MDI magnetogram with corresponding SDO/HMI countours (+/- 300 Gauss) overplot to demonstrate alignment."
   ]
  },
  {
   "cell_type": "markdown",
   "id": "6eb20d26",
   "metadata": {
    "id": "6eb20d26"
   },
   "source": [
    "---"
   ]
  }
 ],
 "metadata": {
  "colab": {
   "collapsed_sections": [],
   "name": "mdi-hmi_los_mag_dataset_colab.ipynb",
   "provenance": []
  },
  "kernelspec": {
   "display_name": "Python 3",
   "language": "python",
   "name": "python3"
  },
  "language_info": {
   "codemirror_mode": {
    "name": "ipython",
    "version": 3
   },
   "file_extension": ".py",
   "mimetype": "text/x-python",
   "name": "python",
   "nbconvert_exporter": "python",
   "pygments_lexer": "ipython3",
   "version": "3.9.4"
  },
  "widgets": {
   "application/vnd.jupyter.widget-state+json": {
    "062f4c03104f43ddb7c9399946a8efab": {
     "model_module": "@jupyter-widgets/controls",
     "model_name": "HTMLModel",
     "state": {
      "_dom_classes": [],
      "_model_module": "@jupyter-widgets/controls",
      "_model_module_version": "1.5.0",
      "_model_name": "HTMLModel",
      "_view_count": null,
      "_view_module": "@jupyter-widgets/controls",
      "_view_module_version": "1.5.0",
      "_view_name": "HTMLView",
      "description": "",
      "description_tooltip": null,
      "layout": "IPY_MODEL_260eb3140da142f089dc9b6aa8ce259d",
      "placeholder": "​",
      "style": "IPY_MODEL_fc6d4f41bfa54166a31be3d164b0d661",
      "value": " 1/1 [00:01&lt;00:00,  1.54s/file]"
     }
    },
    "260eb3140da142f089dc9b6aa8ce259d": {
     "model_module": "@jupyter-widgets/base",
     "model_name": "LayoutModel",
     "state": {
      "_model_module": "@jupyter-widgets/base",
      "_model_module_version": "1.2.0",
      "_model_name": "LayoutModel",
      "_view_count": null,
      "_view_module": "@jupyter-widgets/base",
      "_view_module_version": "1.2.0",
      "_view_name": "LayoutView",
      "align_content": null,
      "align_items": null,
      "align_self": null,
      "border": null,
      "bottom": null,
      "display": null,
      "flex": null,
      "flex_flow": null,
      "grid_area": null,
      "grid_auto_columns": null,
      "grid_auto_flow": null,
      "grid_auto_rows": null,
      "grid_column": null,
      "grid_gap": null,
      "grid_row": null,
      "grid_template_areas": null,
      "grid_template_columns": null,
      "grid_template_rows": null,
      "height": null,
      "justify_content": null,
      "justify_items": null,
      "left": null,
      "margin": null,
      "max_height": null,
      "max_width": null,
      "min_height": null,
      "min_width": null,
      "object_fit": null,
      "object_position": null,
      "order": null,
      "overflow": null,
      "overflow_x": null,
      "overflow_y": null,
      "padding": null,
      "right": null,
      "top": null,
      "visibility": null,
      "width": null
     }
    },
    "26d82899ab8f42178cf5205cdb908eb8": {
     "model_module": "@jupyter-widgets/base",
     "model_name": "LayoutModel",
     "state": {
      "_model_module": "@jupyter-widgets/base",
      "_model_module_version": "1.2.0",
      "_model_name": "LayoutModel",
      "_view_count": null,
      "_view_module": "@jupyter-widgets/base",
      "_view_module_version": "1.2.0",
      "_view_name": "LayoutView",
      "align_content": null,
      "align_items": null,
      "align_self": null,
      "border": null,
      "bottom": null,
      "display": null,
      "flex": null,
      "flex_flow": null,
      "grid_area": null,
      "grid_auto_columns": null,
      "grid_auto_flow": null,
      "grid_auto_rows": null,
      "grid_column": null,
      "grid_gap": null,
      "grid_row": null,
      "grid_template_areas": null,
      "grid_template_columns": null,
      "grid_template_rows": null,
      "height": null,
      "justify_content": null,
      "justify_items": null,
      "left": null,
      "margin": null,
      "max_height": null,
      "max_width": null,
      "min_height": null,
      "min_width": null,
      "object_fit": null,
      "object_position": null,
      "order": null,
      "overflow": null,
      "overflow_x": null,
      "overflow_y": null,
      "padding": null,
      "right": null,
      "top": null,
      "visibility": null,
      "width": null
     }
    },
    "400f6922ddbd4dfe8e42e94fb436ab4a": {
     "model_module": "@jupyter-widgets/controls",
     "model_name": "ProgressStyleModel",
     "state": {
      "_model_module": "@jupyter-widgets/controls",
      "_model_module_version": "1.5.0",
      "_model_name": "ProgressStyleModel",
      "_view_count": null,
      "_view_module": "@jupyter-widgets/base",
      "_view_module_version": "1.2.0",
      "_view_name": "StyleView",
      "bar_color": null,
      "description_width": "initial"
     }
    },
    "43caab2979774ba58804923a7bf98892": {
     "model_module": "@jupyter-widgets/controls",
     "model_name": "HTMLModel",
     "state": {
      "_dom_classes": [],
      "_model_module": "@jupyter-widgets/controls",
      "_model_module_version": "1.5.0",
      "_model_name": "HTMLModel",
      "_view_count": null,
      "_view_module": "@jupyter-widgets/controls",
      "_view_module_version": "1.5.0",
      "_view_name": "HTMLView",
      "description": "",
      "description_tooltip": null,
      "layout": "IPY_MODEL_26d82899ab8f42178cf5205cdb908eb8",
      "placeholder": "​",
      "style": "IPY_MODEL_5b7282554d5d4d9f9ecec0e80b2018e1",
      "value": " 1/1 [00:00&lt;00:00,  7.65file/s]"
     }
    },
    "5b7282554d5d4d9f9ecec0e80b2018e1": {
     "model_module": "@jupyter-widgets/controls",
     "model_name": "DescriptionStyleModel",
     "state": {
      "_model_module": "@jupyter-widgets/controls",
      "_model_module_version": "1.5.0",
      "_model_name": "DescriptionStyleModel",
      "_view_count": null,
      "_view_module": "@jupyter-widgets/base",
      "_view_module_version": "1.2.0",
      "_view_name": "StyleView",
      "description_width": ""
     }
    },
    "672161f08612466290132460feef2bce": {
     "model_module": "@jupyter-widgets/controls",
     "model_name": "HBoxModel",
     "state": {
      "_dom_classes": [],
      "_model_module": "@jupyter-widgets/controls",
      "_model_module_version": "1.5.0",
      "_model_name": "HBoxModel",
      "_view_count": null,
      "_view_module": "@jupyter-widgets/controls",
      "_view_module_version": "1.5.0",
      "_view_name": "HBoxView",
      "box_style": "",
      "children": [
       "IPY_MODEL_83978420ee984b84899246769667cfaf",
       "IPY_MODEL_43caab2979774ba58804923a7bf98892"
      ],
      "layout": "IPY_MODEL_9499c5a001c1477d9ad1aa924c4b73f6"
     }
    },
    "72692e8b6c2c4bfa9ec7e2a438772804": {
     "model_module": "@jupyter-widgets/base",
     "model_name": "LayoutModel",
     "state": {
      "_model_module": "@jupyter-widgets/base",
      "_model_module_version": "1.2.0",
      "_model_name": "LayoutModel",
      "_view_count": null,
      "_view_module": "@jupyter-widgets/base",
      "_view_module_version": "1.2.0",
      "_view_name": "LayoutView",
      "align_content": null,
      "align_items": null,
      "align_self": null,
      "border": null,
      "bottom": null,
      "display": null,
      "flex": null,
      "flex_flow": null,
      "grid_area": null,
      "grid_auto_columns": null,
      "grid_auto_flow": null,
      "grid_auto_rows": null,
      "grid_column": null,
      "grid_gap": null,
      "grid_row": null,
      "grid_template_areas": null,
      "grid_template_columns": null,
      "grid_template_rows": null,
      "height": null,
      "justify_content": null,
      "justify_items": null,
      "left": null,
      "margin": null,
      "max_height": null,
      "max_width": null,
      "min_height": null,
      "min_width": null,
      "object_fit": null,
      "object_position": null,
      "order": null,
      "overflow": null,
      "overflow_x": null,
      "overflow_y": null,
      "padding": null,
      "right": null,
      "top": null,
      "visibility": null,
      "width": null
     }
    },
    "83978420ee984b84899246769667cfaf": {
     "model_module": "@jupyter-widgets/controls",
     "model_name": "FloatProgressModel",
     "state": {
      "_dom_classes": [],
      "_model_module": "@jupyter-widgets/controls",
      "_model_module_version": "1.5.0",
      "_model_name": "FloatProgressModel",
      "_view_count": null,
      "_view_module": "@jupyter-widgets/controls",
      "_view_module_version": "1.5.0",
      "_view_name": "ProgressView",
      "bar_style": "success",
      "description": "Files Downloaded: 100%",
      "description_tooltip": null,
      "layout": "IPY_MODEL_accfd8894cc2461bb3a817312661f2f9",
      "max": 1,
      "min": 0,
      "orientation": "horizontal",
      "style": "IPY_MODEL_f9a4c5a6b1d74705af10085268469542",
      "value": 1
     }
    },
    "900138be07554e2189cfc7b18a0ba188": {
     "model_module": "@jupyter-widgets/controls",
     "model_name": "FloatProgressModel",
     "state": {
      "_dom_classes": [],
      "_model_module": "@jupyter-widgets/controls",
      "_model_module_version": "1.5.0",
      "_model_name": "FloatProgressModel",
      "_view_count": null,
      "_view_module": "@jupyter-widgets/controls",
      "_view_module_version": "1.5.0",
      "_view_name": "ProgressView",
      "bar_style": "success",
      "description": "Files Downloaded: 100%",
      "description_tooltip": null,
      "layout": "IPY_MODEL_72692e8b6c2c4bfa9ec7e2a438772804",
      "max": 1,
      "min": 0,
      "orientation": "horizontal",
      "style": "IPY_MODEL_400f6922ddbd4dfe8e42e94fb436ab4a",
      "value": 1
     }
    },
    "9499c5a001c1477d9ad1aa924c4b73f6": {
     "model_module": "@jupyter-widgets/base",
     "model_name": "LayoutModel",
     "state": {
      "_model_module": "@jupyter-widgets/base",
      "_model_module_version": "1.2.0",
      "_model_name": "LayoutModel",
      "_view_count": null,
      "_view_module": "@jupyter-widgets/base",
      "_view_module_version": "1.2.0",
      "_view_name": "LayoutView",
      "align_content": null,
      "align_items": null,
      "align_self": null,
      "border": null,
      "bottom": null,
      "display": null,
      "flex": null,
      "flex_flow": null,
      "grid_area": null,
      "grid_auto_columns": null,
      "grid_auto_flow": null,
      "grid_auto_rows": null,
      "grid_column": null,
      "grid_gap": null,
      "grid_row": null,
      "grid_template_areas": null,
      "grid_template_columns": null,
      "grid_template_rows": null,
      "height": null,
      "justify_content": null,
      "justify_items": null,
      "left": null,
      "margin": null,
      "max_height": null,
      "max_width": null,
      "min_height": null,
      "min_width": null,
      "object_fit": null,
      "object_position": null,
      "order": null,
      "overflow": null,
      "overflow_x": null,
      "overflow_y": null,
      "padding": null,
      "right": null,
      "top": null,
      "visibility": null,
      "width": null
     }
    },
    "9f0795f8117d4f3a83680ed074f59ead": {
     "model_module": "@jupyter-widgets/controls",
     "model_name": "HBoxModel",
     "state": {
      "_dom_classes": [],
      "_model_module": "@jupyter-widgets/controls",
      "_model_module_version": "1.5.0",
      "_model_name": "HBoxModel",
      "_view_count": null,
      "_view_module": "@jupyter-widgets/controls",
      "_view_module_version": "1.5.0",
      "_view_name": "HBoxView",
      "box_style": "",
      "children": [
       "IPY_MODEL_900138be07554e2189cfc7b18a0ba188",
       "IPY_MODEL_062f4c03104f43ddb7c9399946a8efab"
      ],
      "layout": "IPY_MODEL_c8269a4a881a4051b24c8982eb782865"
     }
    },
    "accfd8894cc2461bb3a817312661f2f9": {
     "model_module": "@jupyter-widgets/base",
     "model_name": "LayoutModel",
     "state": {
      "_model_module": "@jupyter-widgets/base",
      "_model_module_version": "1.2.0",
      "_model_name": "LayoutModel",
      "_view_count": null,
      "_view_module": "@jupyter-widgets/base",
      "_view_module_version": "1.2.0",
      "_view_name": "LayoutView",
      "align_content": null,
      "align_items": null,
      "align_self": null,
      "border": null,
      "bottom": null,
      "display": null,
      "flex": null,
      "flex_flow": null,
      "grid_area": null,
      "grid_auto_columns": null,
      "grid_auto_flow": null,
      "grid_auto_rows": null,
      "grid_column": null,
      "grid_gap": null,
      "grid_row": null,
      "grid_template_areas": null,
      "grid_template_columns": null,
      "grid_template_rows": null,
      "height": null,
      "justify_content": null,
      "justify_items": null,
      "left": null,
      "margin": null,
      "max_height": null,
      "max_width": null,
      "min_height": null,
      "min_width": null,
      "object_fit": null,
      "object_position": null,
      "order": null,
      "overflow": null,
      "overflow_x": null,
      "overflow_y": null,
      "padding": null,
      "right": null,
      "top": null,
      "visibility": null,
      "width": null
     }
    },
    "c8269a4a881a4051b24c8982eb782865": {
     "model_module": "@jupyter-widgets/base",
     "model_name": "LayoutModel",
     "state": {
      "_model_module": "@jupyter-widgets/base",
      "_model_module_version": "1.2.0",
      "_model_name": "LayoutModel",
      "_view_count": null,
      "_view_module": "@jupyter-widgets/base",
      "_view_module_version": "1.2.0",
      "_view_name": "LayoutView",
      "align_content": null,
      "align_items": null,
      "align_self": null,
      "border": null,
      "bottom": null,
      "display": null,
      "flex": null,
      "flex_flow": null,
      "grid_area": null,
      "grid_auto_columns": null,
      "grid_auto_flow": null,
      "grid_auto_rows": null,
      "grid_column": null,
      "grid_gap": null,
      "grid_row": null,
      "grid_template_areas": null,
      "grid_template_columns": null,
      "grid_template_rows": null,
      "height": null,
      "justify_content": null,
      "justify_items": null,
      "left": null,
      "margin": null,
      "max_height": null,
      "max_width": null,
      "min_height": null,
      "min_width": null,
      "object_fit": null,
      "object_position": null,
      "order": null,
      "overflow": null,
      "overflow_x": null,
      "overflow_y": null,
      "padding": null,
      "right": null,
      "top": null,
      "visibility": null,
      "width": null
     }
    },
    "f9a4c5a6b1d74705af10085268469542": {
     "model_module": "@jupyter-widgets/controls",
     "model_name": "ProgressStyleModel",
     "state": {
      "_model_module": "@jupyter-widgets/controls",
      "_model_module_version": "1.5.0",
      "_model_name": "ProgressStyleModel",
      "_view_count": null,
      "_view_module": "@jupyter-widgets/base",
      "_view_module_version": "1.2.0",
      "_view_name": "StyleView",
      "bar_color": null,
      "description_width": "initial"
     }
    },
    "fc6d4f41bfa54166a31be3d164b0d661": {
     "model_module": "@jupyter-widgets/controls",
     "model_name": "DescriptionStyleModel",
     "state": {
      "_model_module": "@jupyter-widgets/controls",
      "_model_module_version": "1.5.0",
      "_model_name": "DescriptionStyleModel",
      "_view_count": null,
      "_view_module": "@jupyter-widgets/base",
      "_view_module_version": "1.2.0",
      "_view_name": "StyleView",
      "description_width": ""
     }
    }
   }
  }
 },
 "nbformat": 4,
 "nbformat_minor": 5
}
