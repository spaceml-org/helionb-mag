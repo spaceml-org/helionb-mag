{
 "cells": [
  {
   "cell_type": "markdown",
   "id": "f7644eea",
   "metadata": {},
   "source": [
    "# The SoHO/MDI, and SDO/HMI Line-of-sight Magnetogram Dataset\n",
    "\n",
    "In this notebook we demonstrate the process for interacting with a small sample of the co-temporal line-of-sight SoHO/MDI, and SDO/HMI dataset"
   ]
  },
  {
   "cell_type": "markdown",
   "id": "9903fb88",
   "metadata": {},
   "source": [
    "*Paul Wright*"
   ]
  },
  {
   "cell_type": "markdown",
   "id": "d1e1fdd3",
   "metadata": {},
   "source": [
    "---"
   ]
  },
  {
   "cell_type": "markdown",
   "id": "c0529c8d",
   "metadata": {},
   "source": [
    "## Introduction\n",
    "\n",
    "Over the last 50 years, space-, and ground-based instruments have imaged the magnetic field on the surface of the Sun. These images, known as magnetograms, have significantly advanced our understanding of solar magnetism, and its role in space-weather. Unfortunately, most instruments are operational for a time-frame of roughly one solar cycle (11-years), preventing long-term studies.\n",
    "\n",
    "Over this time, there are two notable space-based instruments that have been paramount in improving our understanding of these processes:"
   ]
  },
  {
   "cell_type": "markdown",
   "id": "e01fc4fd",
   "metadata": {},
   "source": [
    "### SoHO/MDI Overview\n",
    "\n",
    "Since its launch in 2010, NASA’s Solar Dynamics Observatory (SDO; ([Pesnell et al. 2012](https://ui.adsabs.harvard.edu/abs/2012SoPh..275....3P/abstract)) has continuously monitored Sun's activity, delivering a wealth of valuable scientific data for heliophysics researchers with the use of three instruments.\n",
    "\n",
    "The Helioseismic and Magnetic Imager (HMI; [Schou et al. 2012](https://ui.adsabs.harvard.edu/abs/2012SoPh..275..229S/abstract)) was launched as part of NASA’s Solar Dynamics Observatory (SDO; ([Pesnell et al. 2012](https://ui.adsabs.harvard.edu/abs/2012SoPh..275....3P/abstract)) in 2010. HMI is a sucessor to MDI, and captures visible wavelength filtergrams of the full Sun at 4096 x 4096, with a resolution of 1 arcsecond (0.5 arcsecond/pixel) and takes one magnetogram every 45 seconds. These are processed into a number of data products, including photospheric Dopplergrams, line-of-sight magnetograms, and vector magnetograms ([Hoeksema et al. 2014](https://ui.adsabs.harvard.edu/abs/2014SoPh..289.3483H/abstract)).\n",
    "\n",
    "Prior to 2010, the Michelson Doppler Imager (MDI; scherrer et al 1995) on board the Solar and Heliospheric Observatory (SOHO) was the communities flagship space-based magnetic field imager. MDI is HMI’s predecessor with a resolution of 4 arcseconds (2 arcseconds/pixel).\n",
    "\n",
    "MDI and HMI have an overlapping set of 4,850 magnetograms. MDI is an instrument that is no longer operational, but who was designed as a scientific instrument. A successful calibration enables the joint use of both instruments from 1996 until the present (>24 years).\n",
    "\n",
    "\n",
    "### SDO/HMI Overview\n",
    "\n",
    " its launch in 2010, NASA’s Solar Dynamics Observatory (SDO; ([Pesnell et al. 2012](https://ui.adsabs.harvard.edu/abs/2012SoPh..275....3P/abstract)) has continuously monitored Sun's activity, delivering a wealth of valuable scientific data for heliophysics researchers with the use of three instruments.\n",
    "\n",
    "The Helioseismic and Magnetic Imager (HMI; [Schou et al. 2012](https://ui.adsabs.harvard.edu/abs/2012SoPh..275..229S/abstract)) was launched as part of NASA’s Solar Dynamics Observatory (SDO; ([Pesnell et al. 2012](https://ui.adsabs.harvard.edu/abs/2012SoPh..275....3P/abstract)) in 2010. HMI is a sucessor to MDI, and captures visible wavelength filtergrams of the full Sun at 4096 x 4096 resolution (a pixel size of 0.5 arcsecond), which are then processed into a number of data products, including photospheric Dopplergrams, line-of-sight magnetograms, and vector magnetograms ([Hoeksema et al. 2014](https://ui.adsabs.harvard.edu/abs/2014SoPh..289.3483H/abstract)).\n"
   ]
  },
  {
   "cell_type": "markdown",
   "id": "4b83c946",
   "metadata": {},
   "source": [
    "## The co-temporal magnetogram dataset"
   ]
  },
  {
   "cell_type": "markdown",
   "id": "477f229d",
   "metadata": {},
   "source": [
    "This contains pre-processed magnetograms covering 1995 - 2021, with co-temporal, co-aligned data during the one-year of overlap (2010 - 2011).\n",
    "\n",
    "These data have been \n",
    "\n",
    "* Cleaned based on `QUALITY` flags\n",
    "* Rotated to Solar North\n",
    "* Normalised the Solar radius to account for different instruments residing in different obits\n",
    "* De-rotated each instrument to a common observer location\n",
    "* Temporally aligned\n",
    "* and finally, registered on a per-patch basis to account for a distortion map that exists between both instruments \n",
    "\n",
    "*The dataset currently in preparation for publication, and will be accessible from the Google Cloud Platform*"
   ]
  },
  {
   "cell_type": "markdown",
   "id": "5a08a294",
   "metadata": {},
   "source": [
    "### Who is the dataset for?\n",
    "\n",
    "The sheer volume of structured scientific data obtained by SDO and SoHO, is ideal for a range machine learning tasks from time-series analysis, to computer vision (such as super-resolution tasks). Magnetic field images are unique in that the distribution of values are non-Gaussian, centered around zero, and importantly, *unbounded* at high-, and low- magnetic field values.\n",
    "\n",
    "While the HMI and MDI data are easily accessible, pre-processing these data for scientific analysis requires specialised heliophysics (and instrument-specific) knowledge as each instrument observes the Sun from a different location in space. This may act as an unnecessary hurdle for non-heliophysics machine learning researchers who may wish to experiment with datasets from the physical sciences, but are unaware of domain-specific nuances (e.g., that images must be spatially and temporally adjusted).\n",
    "\n",
    "**Our aim is to supply this standardised co-temporal, co-aligned data-set for heliophysicists who wish to use machine learning in their own research, as well as machine-learning researchers who wish to develop models specialized for the physical sciences.**"
   ]
  },
  {
   "cell_type": "markdown",
   "id": "0a927661",
   "metadata": {},
   "source": [
    "---"
   ]
  },
  {
   "cell_type": "markdown",
   "id": "85398211",
   "metadata": {},
   "source": [
    "## Table of Contents"
   ]
  },
  {
   "cell_type": "markdown",
   "id": "745d014e",
   "metadata": {},
   "source": [
    "The notebook is set out as follows:\n",
    "\n",
    "1. Setting up the notebook <br>\n",
    "2. Loading SDO/HMI & SoHO/MDI from JSOC <br>\n",
    "    2a. Generating a SunPy map <br>\n",
    "3. Reading and Loading the ML dataset <br>\n",
    "4. Visualise the ML dataset"
   ]
  },
  {
   "cell_type": "markdown",
   "id": "13894269",
   "metadata": {},
   "source": [
    "## 1. Setting up the notebook"
   ]
  },
  {
   "cell_type": "code",
   "execution_count": null,
   "id": "81b9e06c",
   "metadata": {},
   "outputs": [],
   "source": [
    "#sunpy isn't included on colab\n",
    "!pip install sunpy[all]"
   ]
  },
  {
   "cell_type": "code",
   "execution_count": null,
   "id": "7dc88e03",
   "metadata": {},
   "outputs": [],
   "source": [
    "import numpy as np\n",
    "import matplotlib.pyplot as plt\n",
    "import time\n",
    "\n",
    "import os\n",
    "from os import listdir\n",
    "from os.path import isfile, join\n",
    "\n",
    "import sunpy\n",
    "import sunpy.map\n",
    "from sunpy.net import Fido, attrs as a\n",
    "import matplotlib.colors as colors\n",
    "import skimage.transform"
   ]
  },
  {
   "cell_type": "markdown",
   "id": "f7e8b6db",
   "metadata": {},
   "source": [
    "## 2. Loading SDO/HMI & SoHO/MDI from JSOC\n"
   ]
  },
  {
   "cell_type": "code",
   "execution_count": null,
   "id": "46be26c7",
   "metadata": {},
   "outputs": [],
   "source": [
    "# Query the data (using a registered e-mail address)\n",
    "jsoc_email = 'paul@wrightai.com'"
   ]
  },
  {
   "cell_type": "code",
   "execution_count": null,
   "id": "9c5060a6",
   "metadata": {},
   "outputs": [],
   "source": [
    "mdi_data = Fido.search(\n",
    "    a.Time('2011/03/31 01:36:00', '2011/03/31 01:37:00'),\n",
    "    a.jsoc.Series.mdi_fd_m_96m_lev182,\n",
    "    a.jsoc.Notify(jsoc_email),\n",
    ")\n",
    "dwnld_mdi = Fido.fetch(mdi_data[0])\n",
    "\n",
    "hmi_data = Fido.search(\n",
    "    a.Time('2011/03/31 01:34:00', '2011/03/31 01:35:00'),\n",
    "    a.jsoc.Series.hmi_m_720s,\n",
    "    a.jsoc.Notify(jsoc_email),\n",
    ")\n",
    "dwnld_hmi = Fido.fetch(hmi_data[0])"
   ]
  },
  {
   "cell_type": "markdown",
   "id": "823c4d5f",
   "metadata": {},
   "source": [
    "due to the nature each telescope being in a different orbit, SDO/HMI and SoHO/MDI observations are not co-aligned by default. This can be easily demonstrated as follows:"
   ]
  },
  {
   "cell_type": "code",
   "execution_count": null,
   "id": "8e17bfdb",
   "metadata": {},
   "outputs": [],
   "source": [
    "import astropy.io.fits as fits"
   ]
  },
  {
   "cell_type": "markdown",
   "id": "97cb3775",
   "metadata": {},
   "source": [
    "### 2a. Generating a SunPy map"
   ]
  },
  {
   "cell_type": "code",
   "execution_count": null,
   "id": "f9f9ada8",
   "metadata": {},
   "outputs": [],
   "source": [
    "mdi_map = sunpy.map.Map(dwnld_mdi[0])\n",
    "mdi_rotated = mdi_map.rotate(order=3)\n",
    "\n",
    "hmi_map = sunpy.map.Map(dwnld_hmi[0])\n",
    "hmi_rotated = hmi_map.rotate(order=3)"
   ]
  },
  {
   "cell_type": "code",
   "execution_count": null,
   "id": "72d31df4",
   "metadata": {},
   "outputs": [],
   "source": [
    "hmimag = plt.get_cmap('hmimag')"
   ]
  },
  {
   "cell_type": "code",
   "execution_count": null,
   "id": "5f5e0438",
   "metadata": {},
   "outputs": [],
   "source": [
    "fig = plt.figure(figsize=(16,6))\n",
    "\n",
    "ax = fig.add_subplot(121, projection=hmi_rotated)\n",
    "hmi_rotated.plot(\n",
    "    norm=colors.Normalize(vmin=-1400,vmax=1400), \n",
    "    cmap=hmimag\n",
    ")\n",
    "North.draw_limb()\n",
    "plt.colorbar()\n",
    "\n",
    "ax = fig.add_subplot(122, projection=mdi_rotated)\n",
    "mdi_rotated.plot(\n",
    "    norm=colors.Normalize(vmin=-1400,vmax=1400), \n",
    "    cmap=hmimag\n",
    ")\n",
    "mdi_rotated.draw_limb()\n",
    "plt.colorbar()"
   ]
  },
  {
   "cell_type": "markdown",
   "id": "3d3c9c3d",
   "metadata": {},
   "source": [
    "**Figure 1:** Full-disk SDO/HMI and SoHO/MDI magnetograms on 31st March 2011, after rotation to solar North. These images are prior to any further alignment"
   ]
  },
  {
   "cell_type": "code",
   "execution_count": null,
   "id": "71baf44a",
   "metadata": {},
   "outputs": [],
   "source": [
    "import astropy.units as u\n",
    "from astropy.coordinates import SkyCoord"
   ]
  },
  {
   "cell_type": "code",
   "execution_count": null,
   "id": "f5fa40c6",
   "metadata": {},
   "outputs": [],
   "source": [
    "bottom_left = SkyCoord(453 * u.arcsec, -225 * u.arcsec, frame=hmi_rotated.coordinate_frame)\n",
    "width = 60 * u.arcsec\n",
    "height = 60 * u.arcsec\n",
    "\n",
    "hmisub = hmi_rotated.submap(bottom_left, width=width, height=height)\n",
    "mdisub = mdi_rotated.submap(bottom_left, width=width, height=height)"
   ]
  },
  {
   "cell_type": "code",
   "execution_count": null,
   "id": "aeefbc54",
   "metadata": {},
   "outputs": [],
   "source": [
    "bicubic_sub = skimage.transform.resize(mdisub.data, hmisub.data.shape)"
   ]
  },
  {
   "cell_type": "code",
   "execution_count": null,
   "id": "573d8a4c",
   "metadata": {},
   "outputs": [],
   "source": [
    "plot_images(hmisub.data, mdisub.data, bicubic_sub, [-300,300])"
   ]
  },
  {
   "cell_type": "markdown",
   "id": "8361b3f8",
   "metadata": {},
   "source": [
    "**Figure 2:** *Left and center*: Example pair of (non-aligned) patches from SDO/HMI, and SoHO/MDI magnetograms. *Right*: Bi-cubic upsampled SoHO/MDI magnetogram with corresponding SDO/HMI countours (+/- 300 Gauss) overplot highlight the misalignment."
   ]
  },
  {
   "cell_type": "markdown",
   "id": "7b52e344",
   "metadata": {},
   "source": [
    "---"
   ]
  },
  {
   "cell_type": "markdown",
   "id": "b2a30553",
   "metadata": {},
   "source": [
    "## 3. Reading and Loading the ML dataset"
   ]
  },
  {
   "cell_type": "code",
   "execution_count": null,
   "id": "949d11f8",
   "metadata": {},
   "outputs": [],
   "source": [
    "path = '/media/paul/data/mdi-hmi/train/2011/3/31/01'\n",
    "onlyfiles = [f for f in listdir(path) if isfile(join(path, f))]"
   ]
  },
  {
   "cell_type": "markdown",
   "id": "a853740f",
   "metadata": {},
   "source": [
    "## 4. Visualise the ML dataset"
   ]
  },
  {
   "cell_type": "code",
   "execution_count": null,
   "id": "eb3a4c9c",
   "metadata": {},
   "outputs": [],
   "source": [
    "def plot_images(one, two, three, levels):\n",
    "    fig = plt.figure(figsize=(17,4))\n",
    "    ax = fig.add_subplot(131)\n",
    "\n",
    "    plt.imshow(one, norm=colors.Normalize(vmin=-1400,vmax=1400), cmap=hmimag)\n",
    "    plt.colorbar().set_label('Gauss')\n",
    "\n",
    "    ax = fig.add_subplot(132)\n",
    "    plt.imshow(two, norm=colors.Normalize(vmin=-1400,vmax=1400), cmap=hmimag)\n",
    "    plt.colorbar().set_label('Gauss')\n",
    "\n",
    "    ax = fig.add_subplot(133)\n",
    "    plt.imshow(three, norm=colors.Normalize(vmin=-1400,vmax=1400), cmap=hmimag)\n",
    "    plt.colorbar().set_label('Gauss')\n",
    "    #plt.contour(data[0], colors='black', levels=[-240,240]);\n",
    "    CS = ax.contour(one, colors='black', levels=levels)\n",
    "    ax.clabel(CS, inline=True, fontsize=8)\n",
    "\n",
    "def plot_images_radius(one, two, three, levels):\n",
    "    fig = plt.figure(figsize=(17,4))\n",
    "    ax = fig.add_subplot(131)\n",
    "\n",
    "    plt.imshow(one, norm=colors.Normalize(vmin=-1400,vmax=1400), cmap=hmimag)\n",
    "    plt.colorbar().set_label('Gauss')\n",
    "\n",
    "    ax = fig.add_subplot(132)\n",
    "    plt.imshow(two, norm=colors.Normalize(vmin=-1400,vmax=1400), cmap=hmimag)\n",
    "    plt.colorbar().set_label('Gauss')\n",
    "\n",
    "    ax = fig.add_subplot(133)\n",
    "    plt.imshow(three)\n",
    "    CS = ax.contour(three, colors='black', levels=levels)\n",
    "    ax.clabel(CS, inline=True, fontsize=8)\n",
    "    plt.colorbar().set_label('Radius [Solar Radii]')"
   ]
  },
  {
   "cell_type": "code",
   "execution_count": null,
   "id": "df004317",
   "metadata": {},
   "outputs": [],
   "source": [
    "hmi = np.load(join(path, 'HMI_20110331-013417_641.npy'))\n",
    "mdi = np.load(join(path, 'MDI-NEW_20110331-013626_641.npy'))"
   ]
  },
  {
   "cell_type": "code",
   "execution_count": null,
   "id": "bcbb809b",
   "metadata": {},
   "outputs": [],
   "source": [
    "plot_images_radius(hmi[0], mdi[0], mdi[1], [1.00])"
   ]
  },
  {
   "cell_type": "markdown",
   "id": "972bbd5c",
   "metadata": {},
   "source": [
    "**Figure 3:** Example pair of co-aligned, co-temporal SDO/HMI, and SoHO/MDI magnetograms (left, center), alongside the corresponding SoHO/MDI location channel, with the solar radius highlighted. As the Sun is split into ?? x ?? patches, each patch contains a corresponding location channel in solar radius."
   ]
  },
  {
   "cell_type": "code",
   "execution_count": null,
   "id": "ea24a478",
   "metadata": {},
   "outputs": [],
   "source": [
    "hmi = np.load(join(path, 'HMI_20110331-013417_407.npy'))\n",
    "mdi = np.load(join(path, 'MDI-NEW_20110331-013626_407.npy'))\n",
    "bicubic = skimage.transform.resize(mdi[0], hmi[0].shape)"
   ]
  },
  {
   "cell_type": "code",
   "execution_count": null,
   "id": "28185720",
   "metadata": {},
   "outputs": [],
   "source": [
    "plot_images(hmi[0], mdi[0], bicubic, [-300,300])"
   ]
  },
  {
   "cell_type": "markdown",
   "id": "d27d5e93",
   "metadata": {},
   "source": [
    "**Figure 4:** *Left and center*: Example pair of co-aligned, co-temporal SDO/HMI, and SoHO/MDI magnetograms. *Right*: Bi-cubic upsampled SoHO/MDI magnetogram with corresponding SDO/HMI countours (+/- 300 Gauss) overplot to demonstrate alignment."
   ]
  },
  {
   "cell_type": "markdown",
   "id": "6eb20d26",
   "metadata": {},
   "source": [
    "---"
   ]
  }
 ],
 "metadata": {
  "kernelspec": {
   "display_name": "Python 3",
   "language": "python",
   "name": "python3"
  },
  "language_info": {
   "codemirror_mode": {
    "name": "ipython",
    "version": 3
   },
   "file_extension": ".py",
   "mimetype": "text/x-python",
   "name": "python",
   "nbconvert_exporter": "python",
   "pygments_lexer": "ipython3",
   "version": "3.7.0"
  }
 },
 "nbformat": 4,
 "nbformat_minor": 5
}
